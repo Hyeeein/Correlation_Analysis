{
 "cells": [
  {
   "cell_type": "code",
   "execution_count": 39,
   "id": "f8256abb",
   "metadata": {},
   "outputs": [],
   "source": [
    "import numpy as np\n",
    "import pandas as pd\n",
    "import matplotlib.pyplot as plt\n",
    "import seaborn as sb"
   ]
  },
  {
   "cell_type": "markdown",
   "id": "0686095b",
   "metadata": {},
   "source": [
    "## 1. 인터넷 이용자 수 증가 추이"
   ]
  },
  {
   "cell_type": "code",
   "execution_count": 49,
   "id": "32ca778e",
   "metadata": {},
   "outputs": [
    {
     "data": {
      "text/html": [
       "<div>\n",
       "<style scoped>\n",
       "    .dataframe tbody tr th:only-of-type {\n",
       "        vertical-align: middle;\n",
       "    }\n",
       "\n",
       "    .dataframe tbody tr th {\n",
       "        vertical-align: top;\n",
       "    }\n",
       "\n",
       "    .dataframe thead th {\n",
       "        text-align: right;\n",
       "    }\n",
       "</style>\n",
       "<table border=\"1\" class=\"dataframe\">\n",
       "  <thead>\n",
       "    <tr style=\"text-align: right;\">\n",
       "      <th></th>\n",
       "      <th>시점</th>\n",
       "      <th>전체</th>\n",
       "    </tr>\n",
       "  </thead>\n",
       "  <tbody>\n",
       "    <tr>\n",
       "      <th>1</th>\n",
       "      <td>2017</td>\n",
       "      <td>45283</td>\n",
       "    </tr>\n",
       "    <tr>\n",
       "      <th>2</th>\n",
       "      <td>2018</td>\n",
       "      <td>46125</td>\n",
       "    </tr>\n",
       "    <tr>\n",
       "      <th>3</th>\n",
       "      <td>2019</td>\n",
       "      <td>46353</td>\n",
       "    </tr>\n",
       "    <tr>\n",
       "      <th>4</th>\n",
       "      <td>2020</td>\n",
       "      <td>46819</td>\n",
       "    </tr>\n",
       "    <tr>\n",
       "      <th>5</th>\n",
       "      <td>2021</td>\n",
       "      <td>47317</td>\n",
       "    </tr>\n",
       "  </tbody>\n",
       "</table>\n",
       "</div>"
      ],
      "text/plain": [
       "     시점     전체\n",
       "1  2017  45283\n",
       "2  2018  46125\n",
       "3  2019  46353\n",
       "4  2020  46819\n",
       "5  2021  47317"
      ]
     },
     "execution_count": 49,
     "metadata": {},
     "output_type": "execute_result"
    }
   ],
   "source": [
    "# 데이터 불러오기\n",
    "internet = pd.read_csv('./Data/인터넷 이용자수 (2017~2021).csv', encoding='cp949')\n",
    "\n",
    "# 데이터 전처리\n",
    "internet = internet[['시점', '전체']].loc[1:]\n",
    "\n",
    "# 데이터 타입 변환\n",
    "internet['전체'] = internet['전체'].astype('int')\n",
    "internet"
   ]
  },
  {
   "cell_type": "code",
   "execution_count": 50,
   "id": "0525959c",
   "metadata": {},
   "outputs": [
    {
     "data": {
      "text/plain": [
       "<AxesSubplot:xlabel='시점'>"
      ]
     },
     "execution_count": 50,
     "metadata": {},
     "output_type": "execute_result"
    },
    {
     "data": {
      "text/plain": [
       "Text(0.5, 1.0, '인터넷 이용자 수 증가 추이 (단위: 천 명)')"
      ]
     },
     "execution_count": 50,
     "metadata": {},
     "output_type": "execute_result"
    },
    {
     "data": {
      "text/plain": [
       "Text(0.5, 0, '년도')"
      ]
     },
     "execution_count": 50,
     "metadata": {},
     "output_type": "execute_result"
    },
    {
     "data": {
      "text/plain": [
       "Text(0, 0.5, '인터넷 이용자 수')"
      ]
     },
     "execution_count": 50,
     "metadata": {},
     "output_type": "execute_result"
    },
    {
     "data": {
      "image/png": "[encoded data removed]",
      "text/plain": [
       "<Figure size 432x288 with 1 Axes>"
      ]
     },
     "metadata": {
      "needs_background": "light"
     },
     "output_type": "display_data"
    }
   ],
   "source": [
    "# 꺾은선 그래프 그리기\n",
    "internet.plot(x='시점', y='전체', color='blue', marker='.')\n",
    "\n",
    "plt.rc('font', family='Malgun Gothic')\n",
    "plt.title('인터넷 이용자 수 증가 추이 (단위: 천 명)')\n",
    "plt.xlabel('년도')\n",
    "plt.ylabel('인터넷 이용자 수')\n",
    "plt.show()"
   ]
  },
  {
   "cell_type": "markdown",
   "id": "655d1ef8",
   "metadata": {},
   "source": [
    "## 2. 온라인 판매액 증가 추이"
   ]
  },
  {
   "cell_type": "code",
   "execution_count": 52,
   "id": "cf2b00b8",
   "metadata": {},
   "outputs": [
    {
     "data": {
      "text/html": [
       "<div>\n",
       "<style scoped>\n",
       "    .dataframe tbody tr th:only-of-type {\n",
       "        vertical-align: middle;\n",
       "    }\n",
       "\n",
       "    .dataframe tbody tr th {\n",
       "        vertical-align: top;\n",
       "    }\n",
       "\n",
       "    .dataframe thead th {\n",
       "        text-align: right;\n",
       "    }\n",
       "</style>\n",
       "<table border=\"1\" class=\"dataframe\">\n",
       "  <thead>\n",
       "    <tr style=\"text-align: right;\">\n",
       "      <th></th>\n",
       "      <th>시점</th>\n",
       "      <th>합계</th>\n",
       "    </tr>\n",
       "  </thead>\n",
       "  <tbody>\n",
       "    <tr>\n",
       "      <th>1</th>\n",
       "      <td>2017</td>\n",
       "      <td>94185765</td>\n",
       "    </tr>\n",
       "    <tr>\n",
       "      <th>2</th>\n",
       "      <td>2018</td>\n",
       "      <td>113314010</td>\n",
       "    </tr>\n",
       "    <tr>\n",
       "      <th>3</th>\n",
       "      <td>2019</td>\n",
       "      <td>136600838</td>\n",
       "    </tr>\n",
       "    <tr>\n",
       "      <th>4</th>\n",
       "      <td>2020</td>\n",
       "      <td>157319737</td>\n",
       "    </tr>\n",
       "    <tr>\n",
       "      <th>5</th>\n",
       "      <td>2021</td>\n",
       "      <td>187078440</td>\n",
       "    </tr>\n",
       "  </tbody>\n",
       "</table>\n",
       "</div>"
      ],
      "text/plain": [
       "     시점         합계\n",
       "1  2017   94185765\n",
       "2  2018  113314010\n",
       "3  2019  136600838\n",
       "4  2020  157319737\n",
       "5  2021  187078440"
      ]
     },
     "execution_count": 52,
     "metadata": {},
     "output_type": "execute_result"
    }
   ],
   "source": [
    "# 데이터 불러오기\n",
    "sales = pd.read_csv('./Data/온라인쇼핑몰 판매매체별 상품군별거래액 (2017~2021).csv', encoding='cp949')\n",
    "\n",
    "# 데이터 전처리\n",
    "sales = sales[['시점', '합계']].loc[1:]\n",
    "\n",
    "# 데이터 타입 변환\n",
    "sales['합계'] = sales['합계'].astype('int')\n",
    "sales"
   ]
  },
  {
   "cell_type": "code",
   "execution_count": 53,
   "id": "ceaf18b1",
   "metadata": {},
   "outputs": [
    {
     "data": {
      "text/plain": [
       "<AxesSubplot:xlabel='시점'>"
      ]
     },
     "execution_count": 53,
     "metadata": {},
     "output_type": "execute_result"
    },
    {
     "data": {
      "text/plain": [
       "Text(0.5, 1.0, '온라인쇼핑몰 거래액 증가 추이 (단위: 백만원)')"
      ]
     },
     "execution_count": 53,
     "metadata": {},
     "output_type": "execute_result"
    },
    {
     "data": {
      "text/plain": [
       "Text(0.5, 0, '년도')"
      ]
     },
     "execution_count": 53,
     "metadata": {},
     "output_type": "execute_result"
    },
    {
     "data": {
      "text/plain": [
       "Text(0, 0.5, '온라인쇼핑몰 거래액')"
      ]
     },
     "execution_count": 53,
     "metadata": {},
     "output_type": "execute_result"
    },
    {
     "data": {
      "image/png": "[encoded data removed]",
      "text/plain": [
       "<Figure size 432x288 with 1 Axes>"
      ]
     },
     "metadata": {
      "needs_background": "light"
     },
     "output_type": "display_data"
    }
   ],
   "source": [
    "# 꺾은선 그래프 그리기\n",
    "sales.plot(x='시점', y='합계', color='hotpink', marker='.')\n",
    "\n",
    "plt.rc('font', family='Malgun Gothic')\n",
    "plt.title('온라인쇼핑몰 거래액 증가 추이 (단위: 백만원)')\n",
    "plt.xlabel('년도')\n",
    "plt.ylabel('온라인쇼핑몰 거래액')\n",
    "plt.show()"
   ]
  },
  {
   "cell_type": "markdown",
   "id": "b39ff2c0",
   "metadata": {},
   "source": [
    "## 3. 생필품의 구매 증가 추이"
   ]
  },
  {
   "cell_type": "code",
   "execution_count": 73,
   "id": "7b8ae44e",
   "metadata": {},
   "outputs": [
    {
     "name": "stdout",
     "output_type": "stream",
     "text": [
      "<class 'pandas.core.frame.DataFrame'>\n",
      "RangeIndex: 5 entries, 1 to 5\n",
      "Data columns (total 5 columns):\n",
      " #   Column  Non-Null Count  Dtype \n",
      "---  ------  --------------  ----- \n",
      " 0   시점      5 non-null      object\n",
      " 1   의복      5 non-null      int64 \n",
      " 2   생활용품    5 non-null      int64 \n",
      " 3   음식서비스   5 non-null      int64 \n",
      " 4   식료품     5 non-null      int64 \n",
      "dtypes: int64(4), object(1)\n",
      "memory usage: 332.0+ bytes\n"
     ]
    }
   ],
   "source": [
    "# 데이터 불러오기\n",
    "essential = pd.read_csv('./Data/온라인쇼핑몰 판매매체별 상품군별거래액 (2017~2021).csv', encoding='cp949')\n",
    "\n",
    "# 데이터 전처리\n",
    "essential = essential[['시점', '의복', '음·식료품', '농축수산물', '생활용품', '음식서비스']].loc[1:]\n",
    "essential['식료품'] = essential['음·식료품'].astype('int64') + essential['농축수산물'].astype('int64')\n",
    "del essential['음·식료품']\n",
    "del essential['농축수산물']\n",
    "\n",
    "# 데이터 타입 변환\n",
    "essential['의복'] = essential['의복'].astype('int64')\n",
    "essential['생활용품'] = essential['생활용품'].astype('int64')\n",
    "essential['음식서비스'] = essential['음식서비스'].astype('int64')\n",
    "essential.info()"
   ]
  },
  {
   "cell_type": "code",
   "execution_count": 74,
   "id": "a92c5b37",
   "metadata": {},
   "outputs": [
    {
     "data": {
      "text/html": [
       "<div>\n",
       "<style scoped>\n",
       "    .dataframe tbody tr th:only-of-type {\n",
       "        vertical-align: middle;\n",
       "    }\n",
       "\n",
       "    .dataframe tbody tr th {\n",
       "        vertical-align: top;\n",
       "    }\n",
       "\n",
       "    .dataframe thead th {\n",
       "        text-align: right;\n",
       "    }\n",
       "</style>\n",
       "<table border=\"1\" class=\"dataframe\">\n",
       "  <thead>\n",
       "    <tr style=\"text-align: right;\">\n",
       "      <th></th>\n",
       "      <th>시점</th>\n",
       "      <th>의복</th>\n",
       "      <th>생활용품</th>\n",
       "      <th>음식서비스</th>\n",
       "      <th>식료품</th>\n",
       "    </tr>\n",
       "  </thead>\n",
       "  <tbody>\n",
       "    <tr>\n",
       "      <th>1</th>\n",
       "      <td>2017</td>\n",
       "      <td>11875368</td>\n",
       "      <td>7483561</td>\n",
       "      <td>2732568</td>\n",
       "      <td>10421609</td>\n",
       "    </tr>\n",
       "    <tr>\n",
       "      <th>2</th>\n",
       "      <td>2018</td>\n",
       "      <td>13198349</td>\n",
       "      <td>8722825</td>\n",
       "      <td>5262777</td>\n",
       "      <td>13434947</td>\n",
       "    </tr>\n",
       "    <tr>\n",
       "      <th>3</th>\n",
       "      <td>2019</td>\n",
       "      <td>14746241</td>\n",
       "      <td>10280482</td>\n",
       "      <td>9735362</td>\n",
       "      <td>17169780</td>\n",
       "    </tr>\n",
       "    <tr>\n",
       "      <th>4</th>\n",
       "      <td>2020</td>\n",
       "      <td>14892250</td>\n",
       "      <td>14228164</td>\n",
       "      <td>17334238</td>\n",
       "      <td>25296761</td>\n",
       "    </tr>\n",
       "    <tr>\n",
       "      <th>5</th>\n",
       "      <td>2021</td>\n",
       "      <td>16642832</td>\n",
       "      <td>15984870</td>\n",
       "      <td>25678335</td>\n",
       "      <td>31411359</td>\n",
       "    </tr>\n",
       "  </tbody>\n",
       "</table>\n",
       "</div>"
      ],
      "text/plain": [
       "     시점        의복      생활용품     음식서비스       식료품\n",
       "1  2017  11875368   7483561   2732568  10421609\n",
       "2  2018  13198349   8722825   5262777  13434947\n",
       "3  2019  14746241  10280482   9735362  17169780\n",
       "4  2020  14892250  14228164  17334238  25296761\n",
       "5  2021  16642832  15984870  25678335  31411359"
      ]
     },
     "execution_count": 74,
     "metadata": {},
     "output_type": "execute_result"
    }
   ],
   "source": [
    "essential"
   ]
  },
  {
   "cell_type": "code",
   "execution_count": 78,
   "id": "404d0424",
   "metadata": {},
   "outputs": [
    {
     "data": {
      "text/plain": [
       "<AxesSubplot:xlabel='시점'>"
      ]
     },
     "execution_count": 78,
     "metadata": {},
     "output_type": "execute_result"
    },
    {
     "data": {
      "text/plain": [
       "Text(0.5, 1.0, '생필품 거래액 증가 추이 (단위: 백만원)')"
      ]
     },
     "execution_count": 78,
     "metadata": {},
     "output_type": "execute_result"
    },
    {
     "data": {
      "text/plain": [
       "Text(0.5, 0, '년도')"
      ]
     },
     "execution_count": 78,
     "metadata": {},
     "output_type": "execute_result"
    },
    {
     "data": {
      "text/plain": [
       "Text(0, 0.5, '온라인쇼핑몰 거래액')"
      ]
     },
     "execution_count": 78,
     "metadata": {},
     "output_type": "execute_result"
    },
    {
     "data": {
      "image/png": "[encoded data removed]",
      "text/plain": [
       "<Figure size 432x288 with 1 Axes>"
      ]
     },
     "metadata": {
      "needs_background": "light"
     },
     "output_type": "display_data"
    }
   ],
   "source": [
    "# 꺾은선 그래프 그리기\n",
    "essential.plot(x='시점', marker='.')\n",
    "\n",
    "plt.rc('font', family='Malgun Gothic')\n",
    "plt.title('생필품 거래액 증가 추이 (단위: 백만원)')\n",
    "plt.xlabel('년도')\n",
    "plt.ylabel('온라인쇼핑몰 거래액')\n",
    "plt.show()"
   ]
  }
 ],
 "metadata": {
  "kernelspec": {
   "display_name": "Python 3 (ipykernel)",
   "language": "python",
   "name": "python3"
  },
  "language_info": {
   "codemirror_mode": {
    "name": "ipython",
    "version": 3
   },
   "file_extension": ".py",
   "mimetype": "text/x-python",
   "name": "python",
   "nbconvert_exporter": "python",
   "pygments_lexer": "ipython3",
   "version": "3.9.12"
  }
 },
 "nbformat": 4,
 "nbformat_minor": 5
}
